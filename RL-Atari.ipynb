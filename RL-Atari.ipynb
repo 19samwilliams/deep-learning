{
 "cells": [
  {
   "cell_type": "code",
   "execution_count": 1,
   "metadata": {},
   "outputs": [
    {
     "name": "stderr",
     "output_type": "stream",
     "text": [
      "/home/sam.williams/python3.6/lib64/python3.6/dist-packages/h5py/__init__.py:36: FutureWarning: Conversion of the second argument of issubdtype from `float` to `np.floating` is deprecated. In future, it will be treated as `np.float64 == np.dtype(float).type`.\n",
      "  from ._conv import register_converters as _register_converters\n",
      "Using TensorFlow backend.\n"
     ]
    }
   ],
   "source": [
    "import numpy as np\n",
    "import pandas as pd\n",
    "import time\n",
    "import random\n",
    "import keras\n",
    "from keras.models import Sequential\n",
    "from keras.layers.core import Dense, Flatten\n",
    "from keras.layers import Input, Conv2D\n",
    "from keras.models import Model\n",
    "from keras.models import load_model\n",
    "from scipy import ndimage, misc\n",
    "import gym\n",
    "import matplotlib.pyplot as plt"
   ]
  },
  {
   "cell_type": "code",
   "execution_count": 2,
   "metadata": {},
   "outputs": [],
   "source": [
    "def plot_state(obs):\n",
    "    plt.figure(figsize=(12,8))\n",
    "    plt.imshow(obs)\n",
    "    plt.axis(\"off\")\n",
    "    plt.show()"
   ]
  },
  {
   "cell_type": "code",
   "execution_count": 3,
   "metadata": {},
   "outputs": [],
   "source": [
    "def process_obs(obs):\n",
    "    obs = obs.max(axis=-1,keepdims=1)\n",
    "    obs = obs.reshape((210,160))\n",
    "    obs = misc.imresize(obs, (110,84))\n",
    "    obs = obs[18:102,:,]\n",
    "    obs = np.expand_dims(obs,2)\n",
    "    obs = obs.astype('float32') / 255\n",
    "    obs[obs > 0] = 1\n",
    "    return obs"
   ]
  },
  {
   "cell_type": "code",
   "execution_count": 4,
   "metadata": {},
   "outputs": [],
   "source": [
    "env = gym.make(\"Breakout-v0\")\n",
    "init = env.reset()"
   ]
  },
  {
   "cell_type": "code",
   "execution_count": 5,
   "metadata": {},
   "outputs": [
    {
     "data": {
      "image/png": "[encoded data removed]",
      "text/plain": [
       "<Figure size 864x576 with 1 Axes>"
      ]
     },
     "metadata": {},
     "output_type": "display_data"
    }
   ],
   "source": [
    "plot_state(init)"
   ]
  },
  {
   "cell_type": "code",
   "execution_count": 6,
   "metadata": {},
   "outputs": [
    {
     "name": "stderr",
     "output_type": "stream",
     "text": [
      "/home/sam.williams/python3.6/lib64/python3.6/dist-packages/ipykernel_launcher.py:4: DeprecationWarning: `imresize` is deprecated!\n",
      "`imresize` is deprecated in SciPy 1.0.0, and will be removed in 1.2.0.\n",
      "Use ``skimage.transform.resize`` instead.\n",
      "  after removing the cwd from sys.path.\n"
     ]
    }
   ],
   "source": [
    "I = process_obs(init)"
   ]
  },
  {
   "cell_type": "code",
   "execution_count": 7,
   "metadata": {},
   "outputs": [
    {
     "data": {
      "text/plain": [
       "(84, 84, 1)"
      ]
     },
     "execution_count": 7,
     "metadata": {},
     "output_type": "execute_result"
    }
   ],
   "source": [
    "I.shape"
   ]
  },
  {
   "cell_type": "code",
   "execution_count": 8,
   "metadata": {},
   "outputs": [
    {
     "data": {
      "image/png": "[encoded data removed]",
      "text/plain": [
       "<Figure size 864x576 with 1 Axes>"
      ]
     },
     "metadata": {},
     "output_type": "display_data"
    }
   ],
   "source": [
    "plot_state(I.reshape(84,84))"
   ]
  },
  {
   "cell_type": "code",
   "execution_count": 9,
   "metadata": {},
   "outputs": [
    {
     "data": {
      "text/plain": [
       "(84, 84, 1)"
      ]
     },
     "execution_count": 9,
     "metadata": {},
     "output_type": "execute_result"
    }
   ],
   "source": [
    "I.shape"
   ]
  },
  {
   "cell_type": "code",
   "execution_count": 10,
   "metadata": {},
   "outputs": [
    {
     "data": {
      "text/plain": [
       "Discrete(4)"
      ]
     },
     "execution_count": 10,
     "metadata": {},
     "output_type": "execute_result"
    }
   ],
   "source": [
    "env.action_space"
   ]
  },
  {
   "cell_type": "code",
   "execution_count": 11,
   "metadata": {},
   "outputs": [
    {
     "data": {
      "text/plain": [
       "(210, 160, 3)"
      ]
     },
     "execution_count": 11,
     "metadata": {},
     "output_type": "execute_result"
    }
   ],
   "source": [
    "env.observation_space.shape"
   ]
  },
  {
   "cell_type": "code",
   "execution_count": 12,
   "metadata": {},
   "outputs": [
    {
     "name": "stdout",
     "output_type": "stream",
     "text": [
      "_________________________________________________________________\n",
      "Layer (type)                 Output Shape              Param #   \n",
      "=================================================================\n",
      "input_1 (InputLayer)         (None, 84, 84, 1)         0         \n",
      "_________________________________________________________________\n",
      "conv2d_1 (Conv2D)            (None, 20, 20, 16)        1040      \n",
      "_________________________________________________________________\n",
      "conv2d_2 (Conv2D)            (None, 9, 9, 32)          8224      \n",
      "_________________________________________________________________\n",
      "flatten_1 (Flatten)          (None, 2592)              0         \n",
      "_________________________________________________________________\n",
      "dense_1 (Dense)              (None, 512)               1327616   \n",
      "_________________________________________________________________\n",
      "dense_2 (Dense)              (None, 4)                 2052      \n",
      "=================================================================\n",
      "Total params: 1,338,932\n",
      "Trainable params: 1,338,932\n",
      "Non-trainable params: 0\n",
      "_________________________________________________________________\n",
      "None\n"
     ]
    }
   ],
   "source": [
    "inp = Input(shape=(84,84,1))\n",
    "x = Conv2D(16, (8,8), strides=4, activation=\"relu\", input_shape=(84,84,1))(inp)\n",
    "x = Conv2D(32, (4,4), strides=2, activation=\"relu\")(x)\n",
    "x = Flatten()(x)\n",
    "x = Dense(512, activation=\"relu\")(x)\n",
    "output = Dense(env.action_space.n)(x)\n",
    "\n",
    "model = Model(inp, output)\n",
    "callbacks_list = [keras.callbacks.ReduceLROnPlateau(monitor=\"loss\", factor=0.9, patience=3)]\n",
    "model.compile(loss='mean_squared_error', optimizer='SGD', metrics=[\"mae\"])\n",
    "\n",
    "print(model.summary())"
   ]
  },
  {
   "cell_type": "code",
   "execution_count": null,
   "metadata": {
    "scrolled": true
   },
   "outputs": [
    {
     "name": "stderr",
     "output_type": "stream",
     "text": [
      "/home/sam.williams/python3.6/lib64/python3.6/dist-packages/ipykernel_launcher.py:4: DeprecationWarning: `imresize` is deprecated!\n",
      "`imresize` is deprecated in SciPy 1.0.0, and will be removed in 1.2.0.\n",
      "Use ``skimage.transform.resize`` instead.\n",
      "  after removing the cwd from sys.path.\n"
     ]
    },
    {
     "name": "stdout",
     "output_type": "stream",
     "text": [
      "Welcome to AI Breakout!\n",
      "Starting Game 1 of 10000...\n",
      "\n",
      "Welcome to AI Breakout!\n",
      "Starting Game 2 of 10000...\n",
      "\n",
      "Welcome to AI Breakout!\n",
      "Starting Game 3 of 10000...\n",
      "\n",
      "Welcome to AI Breakout!\n",
      "Starting Game 4 of 10000...\n",
      "\n",
      "Welcome to AI Breakout!\n",
      "Starting Game 5 of 10000...\n",
      "\n",
      "Welcome to AI Breakout!\n",
      "Starting Game 6 of 10000...\n",
      "\n",
      "Welcome to AI Breakout!\n",
      "Starting Game 7 of 10000...\n",
      "\n",
      "Welcome to AI Breakout!\n",
      "Starting Game 8 of 10000...\n",
      "\n",
      "Welcome to AI Breakout!\n",
      "Starting Game 9 of 10000...\n",
      "\n",
      "Welcome to AI Breakout!\n",
      "Starting Game 10 of 10000...\n",
      "\n",
      "Welcome to AI Breakout!\n",
      "Starting Game 11 of 10000...\n",
      "\n",
      "Welcome to AI Breakout!\n",
      "Starting Game 12 of 10000...\n",
      "\n",
      "Welcome to AI Breakout!\n",
      "Starting Game 13 of 10000...\n",
      "\n",
      "Welcome to AI Breakout!\n",
      "Starting Game 14 of 10000...\n",
      "\n",
      "Welcome to AI Breakout!\n",
      "Starting Game 15 of 10000...\n",
      "\n",
      "Welcome to AI Breakout!\n",
      "Starting Game 16 of 10000...\n",
      "\n",
      "Welcome to AI Breakout!\n",
      "Starting Game 17 of 10000...\n",
      "\n",
      "Welcome to AI Breakout!\n",
      "Starting Game 18 of 10000...\n",
      "\n",
      "Welcome to AI Breakout!\n",
      "Starting Game 19 of 10000...\n",
      "\n",
      "Welcome to AI Breakout!\n",
      "Starting Game 20 of 10000...\n",
      "\n",
      "Welcome to AI Breakout!\n",
      "Starting Game 21 of 10000...\n",
      "\n",
      "Welcome to AI Breakout!\n",
      "Starting Game 22 of 10000...\n",
      "\n",
      "Welcome to AI Breakout!\n",
      "Starting Game 23 of 10000...\n",
      "\n",
      "Welcome to AI Breakout!\n",
      "Starting Game 24 of 10000...\n",
      "\n",
      "Welcome to AI Breakout!\n",
      "Starting Game 25 of 10000...\n",
      "\n",
      "Welcome to AI Breakout!\n",
      "Starting Game 26 of 10000...\n",
      "\n",
      "Welcome to AI Breakout!\n",
      "Starting Game 27 of 10000...\n",
      "\n",
      "Welcome to AI Breakout!\n",
      "Starting Game 28 of 10000...\n",
      "\n",
      "Welcome to AI Breakout!\n",
      "Starting Game 29 of 10000...\n",
      "\n",
      "Welcome to AI Breakout!\n",
      "Starting Game 30 of 10000...\n",
      "\n",
      "Welcome to AI Breakout!\n",
      "Starting Game 31 of 10000...\n",
      "\n",
      "Welcome to AI Breakout!\n",
      "Starting Game 32 of 10000...\n",
      "\n",
      "Welcome to AI Breakout!\n",
      "Starting Game 33 of 10000...\n",
      "\n",
      "Training the model...\n",
      "(428, 84, 84, 1)\n",
      "Epoch 1/4\n",
      "428/428 [==============================] - 1s 3ms/step - loss: 0.0031 - mean_absolute_error: 0.0137\n",
      "Epoch 2/4\n",
      "428/428 [==============================] - 1s 3ms/step - loss: 0.0031 - mean_absolute_error: 0.0121\n",
      "Epoch 3/4\n",
      "428/428 [==============================] - 1s 3ms/step - loss: 0.0030 - mean_absolute_error: 0.0124\n",
      "Epoch 4/4\n",
      "428/428 [==============================] - 1s 3ms/step - loss: 0.0031 - mean_absolute_error: 0.0120\n",
      "Total game score was: 5.0\n",
      "\n",
      "Welcome to AI Breakout!\n",
      "Starting Game 34 of 10000...\n",
      "\n",
      "Welcome to AI Breakout!\n",
      "Starting Game 35 of 10000...\n",
      "\n",
      "Welcome to AI Breakout!\n",
      "Starting Game 36 of 10000...\n",
      "\n",
      "Welcome to AI Breakout!\n",
      "Starting Game 37 of 10000...\n",
      "\n",
      "Welcome to AI Breakout!\n",
      "Starting Game 38 of 10000...\n",
      "\n",
      "Training the model...\n",
      "(353, 84, 84, 1)\n",
      "Epoch 1/4\n",
      "353/353 [==============================] - 1s 3ms/step - loss: 0.0030 - mean_absolute_error: 0.0126\n",
      "Epoch 2/4\n",
      "353/353 [==============================] - 1s 3ms/step - loss: 0.0030 - mean_absolute_error: 0.0121\n",
      "Epoch 3/4\n",
      "353/353 [==============================] - 1s 3ms/step - loss: 0.0030 - mean_absolute_error: 0.0119\n",
      "Epoch 4/4\n",
      "353/353 [==============================] - 1s 3ms/step - loss: 0.0029 - mean_absolute_error: 0.0117\n",
      "Total game score was: 4.0\n",
      "\n",
      "Welcome to AI Breakout!\n",
      "Starting Game 39 of 10000...\n",
      "\n",
      "Welcome to AI Breakout!\n",
      "Starting Game 40 of 10000...\n",
      "\n",
      "Welcome to AI Breakout!\n",
      "Starting Game 41 of 10000...\n",
      "\n",
      "Welcome to AI Breakout!\n",
      "Starting Game 42 of 10000...\n",
      "\n",
      "Welcome to AI Breakout!\n",
      "Starting Game 43 of 10000...\n",
      "\n",
      "Welcome to AI Breakout!\n",
      "Starting Game 44 of 10000...\n",
      "\n",
      "Welcome to AI Breakout!\n",
      "Starting Game 45 of 10000...\n",
      "\n",
      "Welcome to AI Breakout!\n",
      "Starting Game 46 of 10000...\n",
      "\n",
      "Welcome to AI Breakout!\n",
      "Starting Game 47 of 10000...\n",
      "\n",
      "Welcome to AI Breakout!\n",
      "Starting Game 48 of 10000...\n",
      "\n",
      "Welcome to AI Breakout!\n",
      "Starting Game 49 of 10000...\n",
      "\n",
      "Welcome to AI Breakout!\n",
      "Starting Game 50 of 10000...\n",
      "\n",
      "Welcome to AI Breakout!\n",
      "Starting Game 51 of 10000...\n",
      "\n",
      "Welcome to AI Breakout!\n",
      "Starting Game 52 of 10000...\n",
      "\n",
      "Welcome to AI Breakout!\n",
      "Starting Game 53 of 10000...\n",
      "\n",
      "Welcome to AI Breakout!\n",
      "Starting Game 54 of 10000...\n",
      "\n",
      "Welcome to AI Breakout!\n",
      "Starting Game 55 of 10000...\n",
      "\n",
      "Welcome to AI Breakout!\n",
      "Starting Game 56 of 10000...\n",
      "\n",
      "Welcome to AI Breakout!\n",
      "Starting Game 57 of 10000...\n",
      "\n",
      "Welcome to AI Breakout!\n",
      "Starting Game 58 of 10000...\n",
      "\n",
      "Welcome to AI Breakout!\n",
      "Starting Game 59 of 10000...\n",
      "\n",
      "Welcome to AI Breakout!\n",
      "Starting Game 60 of 10000...\n",
      "\n",
      "Welcome to AI Breakout!\n",
      "Starting Game 61 of 10000...\n",
      "\n",
      "Welcome to AI Breakout!\n",
      "Starting Game 62 of 10000...\n",
      "\n",
      "Welcome to AI Breakout!\n",
      "Starting Game 63 of 10000...\n",
      "\n",
      "Welcome to AI Breakout!\n",
      "Starting Game 64 of 10000...\n",
      "\n",
      "Welcome to AI Breakout!\n",
      "Starting Game 65 of 10000...\n",
      "\n",
      "Welcome to AI Breakout!\n",
      "Starting Game 66 of 10000...\n",
      "\n",
      "Welcome to AI Breakout!\n",
      "Starting Game 67 of 10000...\n",
      "\n",
      "Welcome to AI Breakout!\n",
      "Starting Game 68 of 10000...\n",
      "\n",
      "Welcome to AI Breakout!\n",
      "Starting Game 69 of 10000...\n",
      "\n",
      "Welcome to AI Breakout!\n",
      "Starting Game 70 of 10000...\n",
      "\n",
      "Welcome to AI Breakout!\n",
      "Starting Game 71 of 10000...\n",
      "\n",
      "Welcome to AI Breakout!\n",
      "Starting Game 72 of 10000...\n",
      "\n",
      "Welcome to AI Breakout!\n",
      "Starting Game 73 of 10000...\n",
      "\n",
      "Welcome to AI Breakout!\n",
      "Starting Game 74 of 10000...\n",
      "\n",
      "Welcome to AI Breakout!\n",
      "Starting Game 75 of 10000...\n",
      "\n",
      "Welcome to AI Breakout!\n",
      "Starting Game 76 of 10000...\n",
      "\n",
      "Welcome to AI Breakout!\n",
      "Starting Game 77 of 10000...\n",
      "\n",
      "Welcome to AI Breakout!\n",
      "Starting Game 78 of 10000...\n",
      "\n",
      "Welcome to AI Breakout!\n",
      "Starting Game 79 of 10000...\n",
      "\n"
     ]
    }
   ],
   "source": [
    "env = gym.make(\"Breakout-v0\")\n",
    "observation = env.reset()\n",
    "observation = process_obs(observation)\n",
    "\n",
    "\n",
    "episodes = 10000\n",
    "epsilon = 0.5\n",
    "gamma = 0.9\n",
    "done = False\n",
    "\n",
    "history = {}\n",
    "\n",
    "\n",
    "for i in range(1, episodes):\n",
    "    print(\"Welcome to AI Breakout!\")\n",
    "    print(\"Starting Game {} of {}...\\n\".format(i, episodes))\n",
    "    \n",
    "    history = {\"input\":[], \"reward\":[], \"action\": [], \"Q\":[]}\n",
    "    sum = 0\n",
    "    game = True\n",
    "    while game:\n",
    "        \n",
    "        rand = np.random.uniform(0,1)\n",
    "        if  rand < epsilon:\n",
    "            action = env.action_space.sample()\n",
    "        else:\n",
    "            observation = np.expand_dims(observation,0)\n",
    "            action = np.argmax(model.predict(observation))\n",
    "          \n",
    "        observation, reward, done, info = env.step(action)\n",
    "        observation = process_obs(observation)\n",
    "        \n",
    "        history[\"input\"].append(observation)\n",
    "        history[\"action\"].append(action)\n",
    "        history[\"reward\"].append(reward)\n",
    "        sum += reward\n",
    "        \n",
    "        #time.sleep(0.001)\n",
    "        #env.render()\n",
    "        \n",
    "        if done:\n",
    "        \n",
    "            Q = []\n",
    "            for j,k in enumerate(history[\"reward\"][::-1]):\n",
    "                if j == 0:\n",
    "                    val = np.array([[0, 0, 0, 0]])\n",
    "                    val[0,history[\"action\"][-1]] = k\n",
    "                    Q.append(val)\n",
    "                else:\n",
    "                    val = np.array([[0, 0, 0, 0]])\n",
    "                    val[0,history[\"action\"][-1-j]] = k + gamma*Q[-1][0].sum()\n",
    "                    Q.append(val)\n",
    "            \n",
    "            Q = np.array(Q[::-1])\n",
    "            Q = Q.reshape(Q.shape[0],Q.shape[2])\n",
    "\n",
    "\n",
    "            history[\"Q\"] = Q \n",
    "            \n",
    "            if sum < 4:\n",
    "                observation = env.reset()\n",
    "                observation = process_obs(observation)\n",
    "                game = False\n",
    "            else:\n",
    "                print(\"Training the model...\")\n",
    "                \n",
    "                history[\"input\"] = np.array(history[\"input\"])\n",
    "                print(history[\"input\"].shape)\n",
    "                model.fit(history[\"input\"], history[\"Q\"], epochs = 4, batch_size=4, callbacks=callbacks_list)\n",
    "                print(\"Total game score was: {}\\n\".format(sum))\n",
    "            \n",
    "                observation = env.reset()\n",
    "                observation = process_obs(observation)\n",
    "                #epsilon -= 0.01\n",
    "                game = False\n",
    "                             \n",
    "        else:\n",
    "            pass\n",
    "            \n",
    "         "
   ]
  },
  {
   "cell_type": "code",
   "execution_count": null,
   "metadata": {},
   "outputs": [],
   "source": [
    "observation.shape"
   ]
  },
  {
   "cell_type": "code",
   "execution_count": null,
   "metadata": {},
   "outputs": [],
   "source": [
    "#observation"
   ]
  },
  {
   "cell_type": "code",
   "execution_count": null,
   "metadata": {},
   "outputs": [],
   "source": [
    "plot_state(observation.reshape((84,84)))"
   ]
  },
  {
   "cell_type": "markdown",
   "metadata": {},
   "source": [
    "# Saving Model"
   ]
  },
  {
   "cell_type": "code",
   "execution_count": null,
   "metadata": {},
   "outputs": [],
   "source": [
    "model.save(\"breakout-atari-rl.h5\")"
   ]
  },
  {
   "cell_type": "markdown",
   "metadata": {},
   "source": [
    "# Testing the Model"
   ]
  },
  {
   "cell_type": "code",
   "execution_count": null,
   "metadata": {},
   "outputs": [],
   "source": [
    "mod = load_model(\"breakout-atari-rl.h5\")"
   ]
  },
  {
   "cell_type": "code",
   "execution_count": null,
   "metadata": {},
   "outputs": [],
   "source": [
    "env = gym.make(\"Breakout-v0\")\n",
    "observation = env.reset()\n",
    "observation = process_obs(observation)\n",
    "\n",
    "plot_state(observation.reshape((84,84)))\n",
    "\n",
    "episodes = 20\n",
    "gamma = 0.9\n",
    "done = False\n",
    "epsilon = 0\n",
    "\n",
    "history = {}\n",
    "\n",
    "\n",
    "for i in range(1, episodes):\n",
    "    print(\"Welcome to AI Breakout!\")\n",
    "    print(\"Starting Game {} of {}...\".format(i, episodes))\n",
    "    \n",
    "    sum = 0\n",
    "    game = True\n",
    "    obs = []\n",
    "    while game:\n",
    "        \n",
    "        if (len(obs) == 0):\n",
    "            action = 1\n",
    "        elif (len(obs) > 1) and (np.array_equal(obs[-1],obs[-2])):\n",
    "            action = 1\n",
    "        else:\n",
    "            rand = np.random.uniform(0,1)\n",
    "            if  rand < epsilon:\n",
    "                action = env.action_space.sample()\n",
    "            else:\n",
    "                observation = np.expand_dims(observation,0)\n",
    "                action = np.argmax(mod.predict(observation))\n",
    "            \n",
    "        #print(action)\n",
    "        observation, reward, done, info = env.step(action)\n",
    "        observation = process_obs(observation)\n",
    "        obs.append(observation)\n",
    "\n",
    "        sum += reward\n",
    "        time.sleep(0.01)\n",
    "        #env.render()\n",
    "\n",
    "        if done:\n",
    "            print(\"Total game score was: {}\\n\".format(sum))\n",
    "            observation = env.reset()\n",
    "            observation = process_obs(observation)\n",
    "            game = False\n",
    "env.close()        "
   ]
  },
  {
   "cell_type": "code",
   "execution_count": null,
   "metadata": {},
   "outputs": [],
   "source": [
    "plot_state(observation.reshape((84,84)))"
   ]
  },
  {
   "cell_type": "code",
   "execution_count": null,
   "metadata": {},
   "outputs": [],
   "source": [
    "observation.shape"
   ]
  },
  {
   "cell_type": "code",
   "execution_count": null,
   "metadata": {},
   "outputs": [],
   "source": []
  }
 ],
 "metadata": {
  "kernelspec": {
   "display_name": "Python 3",
   "language": "python",
   "name": "python3"
  },
  "language_info": {
   "codemirror_mode": {
    "name": "ipython",
    "version": 3
   },
   "file_extension": ".py",
   "mimetype": "text/x-python",
   "name": "python",
   "nbconvert_exporter": "python",
   "pygments_lexer": "ipython3",
   "version": "3.6.5"
  }
 },
 "nbformat": 4,
 "nbformat_minor": 2
}
