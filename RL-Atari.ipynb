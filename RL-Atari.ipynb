{
 "cells": [
  {
   "cell_type": "code",
   "execution_count": 1,
   "metadata": {},
   "outputs": [
    {
     "name": "stderr",
     "output_type": "stream",
     "text": [
      "Using TensorFlow backend.\n"
     ]
    }
   ],
   "source": [
    "import numpy as np\n",
    "import pandas as pd\n",
    "import time\n",
    "import random\n",
    "from keras.models import Sequential\n",
    "from keras.layers.core import Dense, Flatten\n",
    "from keras.layers import Input, Conv2D\n",
    "from keras.models import Model\n",
    "\n",
    "import gym\n",
    "import matplotlib.pyplot as plt"
   ]
  },
  {
   "cell_type": "code",
   "execution_count": 2,
   "metadata": {},
   "outputs": [],
   "source": [
    "def plot_state(obs):\n",
    "    plt.figure(figsize=(12,8))\n",
    "    plt.imshow(obs)\n",
    "    plt.axis(\"off\")\n",
    "    plt.show()"
   ]
  },
  {
   "cell_type": "code",
   "execution_count": 3,
   "metadata": {},
   "outputs": [],
   "source": [
    "env = gym.make(\"Breakout-v0\")\n",
    "init = env.reset()"
   ]
  },
  {
   "cell_type": "code",
   "execution_count": 4,
   "metadata": {},
   "outputs": [
    {
     "data": {
      "image/png": "[encoded data removed]",
      "text/plain": [
       "<Figure size 864x576 with 1 Axes>"
      ]
     },
     "metadata": {},
     "output_type": "display_data"
    }
   ],
   "source": [
    "plot_state(init)"
   ]
  },
  {
   "cell_type": "code",
   "execution_count": 5,
   "metadata": {},
   "outputs": [],
   "source": [
    "init = init.mean(axis=-1,keepdims=1)\n",
    "init = init.astype('float32') / 255"
   ]
  },
  {
   "cell_type": "code",
   "execution_count": 6,
   "metadata": {},
   "outputs": [
    {
     "data": {
      "text/plain": [
       "(210, 160, 1)"
      ]
     },
     "execution_count": 6,
     "metadata": {},
     "output_type": "execute_result"
    }
   ],
   "source": [
    "init.shape"
   ]
  },
  {
   "cell_type": "code",
   "execution_count": 7,
   "metadata": {},
   "outputs": [],
   "source": [
    "init[init > 0] = 1"
   ]
  },
  {
   "cell_type": "code",
   "execution_count": 8,
   "metadata": {},
   "outputs": [
    {
     "data": {
      "text/plain": [
       "1.0"
      ]
     },
     "execution_count": 8,
     "metadata": {},
     "output_type": "execute_result"
    }
   ],
   "source": [
    "init.max()"
   ]
  },
  {
   "cell_type": "code",
   "execution_count": 9,
   "metadata": {},
   "outputs": [
    {
     "data": {
      "image/png": "[encoded data removed]",
      "text/plain": [
       "<Figure size 864x576 with 1 Axes>"
      ]
     },
     "metadata": {},
     "output_type": "display_data"
    }
   ],
   "source": [
    "plot_state(init.reshape(210,160))"
   ]
  },
  {
   "cell_type": "code",
   "execution_count": 10,
   "metadata": {},
   "outputs": [
    {
     "data": {
      "text/plain": [
       "Discrete(4)"
      ]
     },
     "execution_count": 10,
     "metadata": {},
     "output_type": "execute_result"
    }
   ],
   "source": [
    "env.action_space"
   ]
  },
  {
   "cell_type": "code",
   "execution_count": 11,
   "metadata": {},
   "outputs": [
    {
     "data": {
      "text/plain": [
       "(210, 160, 3)"
      ]
     },
     "execution_count": 11,
     "metadata": {},
     "output_type": "execute_result"
    }
   ],
   "source": [
    "env.observation_space.shape"
   ]
  },
  {
   "cell_type": "code",
   "execution_count": 12,
   "metadata": {},
   "outputs": [
    {
     "name": "stdout",
     "output_type": "stream",
     "text": [
      "_________________________________________________________________\n",
      "Layer (type)                 Output Shape              Param #   \n",
      "=================================================================\n",
      "input_1 (InputLayer)         (None, 210, 160, 1)       0         \n",
      "_________________________________________________________________\n",
      "conv2d_1 (Conv2D)            (None, 210, 160, 8)       80        \n",
      "_________________________________________________________________\n",
      "flatten_1 (Flatten)          (None, 268800)            0         \n",
      "_________________________________________________________________\n",
      "dense_1 (Dense)              (None, 128)               34406528  \n",
      "_________________________________________________________________\n",
      "dense_2 (Dense)              (None, 3)                 387       \n",
      "=================================================================\n",
      "Total params: 34,406,995\n",
      "Trainable params: 34,406,995\n",
      "Non-trainable params: 0\n",
      "_________________________________________________________________\n",
      "None\n"
     ]
    }
   ],
   "source": [
    "inp = Input(shape=init.shape)\n",
    "x = Conv2D(8, (3,3), padding=\"same\")(inp)\n",
    "x = Flatten()(x)\n",
    "x = Dense(128, activation='relu')(x)\n",
    "#x = Dense(64, activation='relu')(x)\n",
    "output = Dense(3)(x)#env.action_space.n)(x)\n",
    "\n",
    "model = Model(inp, output)\n",
    "model.compile(loss='mean_squared_error', optimizer='adam', metrics=[\"mse\"])\n",
    "\n",
    "print(model.summary())"
   ]
  },
  {
   "cell_type": "code",
   "execution_count": 13,
   "metadata": {},
   "outputs": [],
   "source": [
    "def process_obs(obs):\n",
    "    obs = obs.mean(axis=-1,keepdims=1)\n",
    "    obs = obs.astype('float32') / 255\n",
    "    obs[obs > 0] = 1\n",
    "    obs = np.expand_dims(obs,0)\n",
    "    return obs"
   ]
  },
  {
   "cell_type": "code",
   "execution_count": null,
   "metadata": {},
   "outputs": [
    {
     "name": "stdout",
     "output_type": "stream",
     "text": [
      "Welcome to AI Breakout!\n",
      "Starting Game 1...\n",
      "\n",
      "Training the model...\n",
      "(297, 210, 160, 1)\n",
      "Epoch 1/1\n",
      "297/297 [==============================] - 7s 23ms/step - loss: 913.3839 - mean_squared_error: 913.3839\n",
      "Total game score was: 2.0\n",
      "\n",
      "Welcome to AI Breakout!\n",
      "Starting Game 2...\n",
      "\n",
      "Training the model...\n",
      "(171, 210, 160, 1)\n",
      "Epoch 1/1\n",
      "171/171 [==============================] - 4s 25ms/step - loss: 30.1422 - mean_squared_error: 30.1422\n",
      "Total game score was: 0.0\n",
      "\n",
      "Welcome to AI Breakout!\n",
      "Starting Game 3...\n",
      "\n",
      "Training the model...\n",
      "(207, 210, 160, 1)\n",
      "Epoch 1/1\n",
      "207/207 [==============================] - 6s 27ms/step - loss: 1.2470 - mean_squared_error: 1.2470\n",
      "Total game score was: 1.0\n",
      "\n",
      "Welcome to AI Breakout!\n",
      "Starting Game 4...\n",
      "\n",
      "Training the model...\n",
      "(313, 210, 160, 1)\n",
      "Epoch 1/1\n",
      "313/313 [==============================] - 8s 25ms/step - loss: 2.4422 - mean_squared_error: 2.4422\n",
      "Total game score was: 3.0\n",
      "\n",
      "Welcome to AI Breakout!\n",
      "Starting Game 5...\n",
      "\n",
      "Training the model...\n",
      "(168, 210, 160, 1)\n",
      "Epoch 1/1\n",
      "168/168 [==============================] - 4s 26ms/step - loss: 0.9629 - mean_squared_error: 0.9629\n",
      "Total game score was: 0.0\n",
      "\n",
      "Welcome to AI Breakout!\n",
      "Starting Game 6...\n",
      "\n",
      "Training the model...\n",
      "(207, 210, 160, 1)\n",
      "Epoch 1/1\n",
      "207/207 [==============================] - 6s 28ms/step - loss: 0.6769 - mean_squared_error: 0.6769\n",
      "Total game score was: 1.0\n",
      "\n",
      "Welcome to AI Breakout!\n",
      "Starting Game 7...\n",
      "\n",
      "Training the model...\n",
      "(164, 210, 160, 1)\n",
      "Epoch 1/1\n",
      "164/164 [==============================] - 5s 28ms/step - loss: 0.4257 - mean_squared_error: 0.4257\n",
      "Total game score was: 0.0\n",
      "\n",
      "Welcome to AI Breakout!\n",
      "Starting Game 8...\n",
      "\n",
      "Training the model...\n",
      "(206, 210, 160, 1)\n",
      "Epoch 1/1\n",
      "206/206 [==============================] - 5s 25ms/step - loss: 0.0638 - mean_squared_error: 0.0638\n",
      "Total game score was: 1.0\n",
      "\n",
      "Welcome to AI Breakout!\n",
      "Starting Game 9...\n",
      "\n",
      "Training the model...\n",
      "(336, 210, 160, 1)\n",
      "Epoch 1/1\n",
      "336/336 [==============================] - 8s 23ms/step - loss: 0.0030 - mean_squared_error: 0.0030\n",
      "Total game score was: 3.0\n",
      "\n",
      "Welcome to AI Breakout!\n",
      "Starting Game 10...\n",
      "\n",
      "Training the model...\n",
      "(193, 210, 160, 1)\n",
      "Epoch 1/1\n",
      "193/193 [==============================] - 5s 25ms/step - loss: 6.8705e-05 - mean_squared_error: 6.8705e-05\n"
     ]
    }
   ],
   "source": [
    "env = gym.make(\"Breakout-v0\")\n",
    "observation = env.reset()\n",
    "observation = process_obs(observation)\n",
    "\n",
    "\n",
    "episodes = 100\n",
    "epsilon = 0.9\n",
    "gamma = 0.9\n",
    "done = False\n",
    "\n",
    "history = {}\n",
    "\n",
    "\n",
    "for i in range(1, episodes):\n",
    "    print(\"Welcome to AI Breakout!\")\n",
    "    print(\"Starting Game {}...\\n\".format(i))\n",
    "    \n",
    "    history = {\"input\":[], \"reward\":[], \"action\": [], \"Q\":[]}\n",
    "    sum = 0\n",
    "    game = True\n",
    "    while game:\n",
    "        \n",
    "        rand = np.random.uniform(0,1)\n",
    "        if  rand < epsilon:\n",
    "            action = random.choice([1,2,3])#env.action_space.sample()\n",
    "        else:\n",
    "            action = np.argmax(model.predict(observation)) + 1\n",
    "        #print(action)    \n",
    "        observation, reward, done, info = env.step(action)\n",
    "        \n",
    "        observation = process_obs(observation)\n",
    "        \n",
    "        \n",
    "        history[\"input\"].append(observation)\n",
    "        history[\"action\"].append(action)\n",
    "        history[\"reward\"].append(reward)\n",
    "        \n",
    "        sum += reward\n",
    "\n",
    "        time.sleep(0.001)\n",
    "        env.render()\n",
    "        \n",
    "        if done:\n",
    "        \n",
    "            Q = []\n",
    "            for j,k in enumerate(history[\"reward\"][::-1]):\n",
    "                if j == 0:\n",
    "                    val = np.array([[0, 0, 0]])\n",
    "                    val[0,history[\"action\"][-1]-1] = k\n",
    "                    Q.append(val)\n",
    "                else:\n",
    "                    val = np.array([[0, 0, 0]])\n",
    "                    val[0,history[\"action\"][-1-j]-1] = k + gamma*Q[-1][0].sum()\n",
    "                    Q.append(val)\n",
    "            \n",
    "            Q = np.array(Q[::-1])\n",
    "            Q = Q.reshape(Q.shape[0],Q.shape[2])\n",
    "\n",
    "\n",
    "            history[\"Q\"] = Q \n",
    "            \n",
    "            print(\"Training the model...\")\n",
    "            \n",
    "            history[\"input\"] = np.array(history[\"input\"])\n",
    "            #print(\"shape: \",history[\"input\"].shape)\n",
    "            history[\"input\"] = history[\"input\"].reshape((history[\"input\"].shape[0],\\\n",
    "                                                         history[\"input\"].shape[2],\\\n",
    "                                                         history[\"input\"].shape[3],\\\n",
    "                                                         history[\"input\"].shape[4]))\n",
    "            print(history[\"input\"].shape)\n",
    "            model.fit(history[\"input\"], history[\"Q\"], epochs = 1, batch_size=50)\n",
    "            \n",
    "            \n",
    "            print(\"Total game score was: {}\\n\".format(sum))\n",
    "            \n",
    "            observation = env.reset()\n",
    "            observation = process_obs(observation)\n",
    "            epsilon -= 0.01\n",
    "            game = False\n",
    "                             \n",
    "        else:\n",
    "            pass\n",
    "            \n",
    "         "
   ]
  },
  {
   "cell_type": "code",
   "execution_count": null,
   "metadata": {},
   "outputs": [],
   "source": [
    "model.predict(observation)"
   ]
  },
  {
   "cell_type": "code",
   "execution_count": null,
   "metadata": {},
   "outputs": [],
   "source": []
  }
 ],
 "metadata": {
  "kernelspec": {
   "display_name": "Python 3",
   "language": "python",
   "name": "python3"
  },
  "language_info": {
   "codemirror_mode": {
    "name": "ipython",
    "version": 3
   },
   "file_extension": ".py",
   "mimetype": "text/x-python",
   "name": "python",
   "nbconvert_exporter": "python",
   "pygments_lexer": "ipython3",
   "version": "3.7.0"
  }
 },
 "nbformat": 4,
 "nbformat_minor": 2
}
