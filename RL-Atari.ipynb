{
 "cells": [
  {
   "cell_type": "code",
   "execution_count": 1,
   "metadata": {},
   "outputs": [
    {
     "name": "stderr",
     "output_type": "stream",
     "text": [
      "Using TensorFlow backend.\n"
     ]
    }
   ],
   "source": [
    "import numpy as np\n",
    "import pandas as pd\n",
    "import time\n",
    "import random\n",
    "import keras\n",
    "from keras.models import Sequential\n",
    "from keras.layers.core import Dense, Flatten\n",
    "from keras.layers import Input, Conv2D\n",
    "from keras.models import Model\n",
    "from keras.models import load_model\n",
    "from scipy import ndimage, misc\n",
    "import gym\n",
    "import matplotlib.pyplot as plt"
   ]
  },
  {
   "cell_type": "code",
   "execution_count": 2,
   "metadata": {},
   "outputs": [],
   "source": [
    "def plot_state(obs):\n",
    "    plt.figure(figsize=(12,8))\n",
    "    plt.imshow(obs)\n",
    "    plt.axis(\"off\")\n",
    "    plt.show()"
   ]
  },
  {
   "cell_type": "code",
   "execution_count": 3,
   "metadata": {},
   "outputs": [],
   "source": [
    "def process_obs(obs):\n",
    "    obs = obs.max(axis=-1,keepdims=1)\n",
    "    obs = obs.reshape((210,160))\n",
    "    obs = misc.imresize(obs, (110,84))\n",
    "    lives = obs[2:9,52:59]\n",
    "    obs = obs[18:102,:,]\n",
    "    obs = np.expand_dims(obs,2)\n",
    "    obs = obs.astype('float32') / 255\n",
    "    obs[obs > 0] = 1\n",
    "    return [obs,lives]"
   ]
  },
  {
   "cell_type": "code",
   "execution_count": 4,
   "metadata": {
    "scrolled": false
   },
   "outputs": [
    {
     "name": "stdout",
     "output_type": "stream",
     "text": [
      "Welcome to AI Breakout!\n",
      "Starting Test Game...\n",
      "\n"
     ]
    },
    {
     "name": "stderr",
     "output_type": "stream",
     "text": [
      "/Users/samwilliams/homebrew/lib/python3.7/site-packages/ipykernel_launcher.py:4: DeprecationWarning: `imresize` is deprecated!\n",
      "`imresize` is deprecated in SciPy 1.0.0, and will be removed in 1.2.0.\n",
      "Use ``skimage.transform.resize`` instead.\n",
      "  after removing the cwd from sys.path.\n"
     ]
    },
    {
     "data": {
      "image/png": "[encoded data removed]",
      "text/plain": [
       "<Figure size 864x576 with 1 Axes>"
      ]
     },
     "metadata": {},
     "output_type": "display_data"
    },
    {
     "data": {
      "image/png": "[encoded data removed]",
      "text/plain": [
       "<Figure size 864x576 with 1 Axes>"
      ]
     },
     "metadata": {},
     "output_type": "display_data"
    },
    {
     "data": {
      "image/png": "[encoded data removed]",
      "text/plain": [
       "<Figure size 864x576 with 1 Axes>"
      ]
     },
     "metadata": {},
     "output_type": "display_data"
    },
    {
     "data": {
      "image/png": "[encoded data removed]",
      "text/plain": [
       "<Figure size 864x576 with 1 Axes>"
      ]
     },
     "metadata": {},
     "output_type": "display_data"
    },
    {
     "data": {
      "image/png": "[encoded data removed]",
      "text/plain": [
       "<Figure size 864x576 with 1 Axes>"
      ]
     },
     "metadata": {},
     "output_type": "display_data"
    }
   ],
   "source": [
    "episodes = 1\n",
    "env = gym.make(\"Breakout-v0\")\n",
    "init = env.reset()\n",
    "\n",
    "for i in range(episodes):\n",
    "    print(\"Welcome to AI Breakout!\")\n",
    "    print(\"Starting Test Game...\\n\")\n",
    "\n",
    "    \n",
    "    game = True\n",
    "    LIVES = []\n",
    "    while game:\n",
    "        \n",
    "        action = env.action_space.sample()\n",
    "        \n",
    "        observation, reward, done, info = env.step(action)\n",
    "        observation, lives = process_obs(observation)\n",
    "        LIVES.append(lives)\n",
    "        \n",
    "        if done:\n",
    "            \n",
    "            LIVES = np.unique(np.array(LIVES), axis=0)\n",
    "            \n",
    "            for i in LIVES:\n",
    "                plot_state(i.reshape(7,7))\n",
    "            game = False\n",
    "            observation = env.reset()\n",
    "                             \n",
    "        else:\n",
    "            pass\n",
    "            \n",
    "         "
   ]
  },
  {
   "cell_type": "code",
   "execution_count": 5,
   "metadata": {},
   "outputs": [],
   "source": [
    "env = gym.make(\"Breakout-v0\")\n",
    "init = env.reset()"
   ]
  },
  {
   "cell_type": "code",
   "execution_count": 6,
   "metadata": {},
   "outputs": [
    {
     "data": {
      "image/png": "[encoded data removed]",
      "text/plain": [
       "<Figure size 864x576 with 1 Axes>"
      ]
     },
     "metadata": {},
     "output_type": "display_data"
    }
   ],
   "source": [
    "plot_state(init)"
   ]
  },
  {
   "cell_type": "code",
   "execution_count": 7,
   "metadata": {},
   "outputs": [
    {
     "name": "stderr",
     "output_type": "stream",
     "text": [
      "/Users/samwilliams/homebrew/lib/python3.7/site-packages/ipykernel_launcher.py:4: DeprecationWarning: `imresize` is deprecated!\n",
      "`imresize` is deprecated in SciPy 1.0.0, and will be removed in 1.2.0.\n",
      "Use ``skimage.transform.resize`` instead.\n",
      "  after removing the cwd from sys.path.\n"
     ]
    }
   ],
   "source": [
    "I = process_obs(init)[0]"
   ]
  },
  {
   "cell_type": "code",
   "execution_count": 8,
   "metadata": {},
   "outputs": [
    {
     "data": {
      "text/plain": [
       "(84, 84, 1)"
      ]
     },
     "execution_count": 8,
     "metadata": {},
     "output_type": "execute_result"
    }
   ],
   "source": [
    "I.shape"
   ]
  },
  {
   "cell_type": "code",
   "execution_count": 9,
   "metadata": {},
   "outputs": [
    {
     "data": {
      "image/png": "[encoded data removed]",
      "text/plain": [
       "<Figure size 864x576 with 1 Axes>"
      ]
     },
     "metadata": {},
     "output_type": "display_data"
    }
   ],
   "source": [
    "plot_state(I.reshape(84,84))"
   ]
  },
  {
   "cell_type": "code",
   "execution_count": 10,
   "metadata": {},
   "outputs": [
    {
     "data": {
      "text/plain": [
       "Discrete(4)"
      ]
     },
     "execution_count": 10,
     "metadata": {},
     "output_type": "execute_result"
    }
   ],
   "source": [
    "env.action_space"
   ]
  },
  {
   "cell_type": "code",
   "execution_count": 11,
   "metadata": {},
   "outputs": [
    {
     "data": {
      "text/plain": [
       "(210, 160, 3)"
      ]
     },
     "execution_count": 11,
     "metadata": {},
     "output_type": "execute_result"
    }
   ],
   "source": [
    "env.observation_space.shape"
   ]
  },
  {
   "cell_type": "code",
   "execution_count": 12,
   "metadata": {},
   "outputs": [
    {
     "name": "stdout",
     "output_type": "stream",
     "text": [
      "_________________________________________________________________\n",
      "Layer (type)                 Output Shape              Param #   \n",
      "=================================================================\n",
      "input_1 (InputLayer)         (None, 84, 84, 1)         0         \n",
      "_________________________________________________________________\n",
      "conv2d_1 (Conv2D)            (None, 20, 20, 16)        1040      \n",
      "_________________________________________________________________\n",
      "flatten_1 (Flatten)          (None, 6400)              0         \n",
      "_________________________________________________________________\n",
      "dense_1 (Dense)              (None, 1024)              6554624   \n",
      "_________________________________________________________________\n",
      "dense_2 (Dense)              (None, 4)                 4100      \n",
      "=================================================================\n",
      "Total params: 6,559,764\n",
      "Trainable params: 6,559,764\n",
      "Non-trainable params: 0\n",
      "_________________________________________________________________\n",
      "None\n"
     ]
    },
    {
     "name": "stderr",
     "output_type": "stream",
     "text": [
      "/Users/samwilliams/homebrew/lib/python3.7/site-packages/keras/callbacks.py:1086: RuntimeWarning: Learning Rate Plateau Reducing mode <built-in function min> is unknown, fallback to auto mode.\n",
      "  RuntimeWarning)\n"
     ]
    }
   ],
   "source": [
    "inp = Input(shape=(84,84,1))\n",
    "x = Conv2D(16, (8,8), strides=4, activation=\"relu\", input_shape=(84,84,1))(inp)\n",
    "#x = Conv2D(16, (4,4), strides=2, activation=\"relu\")(x)\n",
    "x = Flatten()(x)\n",
    "x = Dense(1024,  activation=\"relu\")(x)\n",
    "#x = Dense(16,  activation=\"relu\")(x)\n",
    "output = Dense(env.action_space.n)(x)\n",
    "\n",
    "model = Model(inp, output)\n",
    "callbacks_list = [keras.callbacks.ReduceLROnPlateau(monitor=\"loss\", factor=0.01, patience=2, mode = min, verbose = 1)]\n",
    "model.compile(loss='mean_squared_error', optimizer='adam', metrics=[\"mae\"])\n",
    "\n",
    "print(model.summary())"
   ]
  },
  {
   "cell_type": "code",
   "execution_count": 13,
   "metadata": {},
   "outputs": [],
   "source": [
    "LIFE = {}\n",
    "LIFE[\"1\"] = LIVES[0]\n",
    "LIFE[\"2\"] = LIVES[3]\n",
    "LIFE[\"3\"] = LIVES[2]\n",
    "LIFE[\"4\"] = LIVES[1]\n",
    "LIFE[\"5\"] = LIVES[4]"
   ]
  },
  {
   "cell_type": "code",
   "execution_count": 14,
   "metadata": {},
   "outputs": [
    {
     "name": "stdout",
     "output_type": "stream",
     "text": [
      "1\n",
      "2\n",
      "3\n",
      "4\n",
      "5\n"
     ]
    }
   ],
   "source": [
    "for i,j in LIFE.items():\n",
    "    print(i)"
   ]
  },
  {
   "cell_type": "code",
   "execution_count": 15,
   "metadata": {
    "scrolled": true
   },
   "outputs": [
    {
     "name": "stdout",
     "output_type": "stream",
     "text": [
      "Welcome to AI Breakout!\n",
      "Starting Game 1 of 100...\n",
      "\n"
     ]
    },
    {
     "name": "stderr",
     "output_type": "stream",
     "text": [
      "/Users/samwilliams/homebrew/lib/python3.7/site-packages/ipykernel_launcher.py:4: DeprecationWarning: `imresize` is deprecated!\n",
      "`imresize` is deprecated in SciPy 1.0.0, and will be removed in 1.2.0.\n",
      "Use ``skimage.transform.resize`` instead.\n",
      "  after removing the cwd from sys.path.\n"
     ]
    },
    {
     "name": "stdout",
     "output_type": "stream",
     "text": [
      "Training the model...\n",
      "Epoch 1/3\n",
      "652/652 [==============================] - 3s 4ms/step - loss: 2.0987 - mean_absolute_error: 0.6309\n",
      "Epoch 2/3\n",
      "652/652 [==============================] - 3s 4ms/step - loss: 1.5027 - mean_absolute_error: 0.3573\n",
      "Epoch 3/3\n",
      "652/652 [==============================] - 3s 4ms/step - loss: 1.3660 - mean_absolute_error: 0.3615\n",
      "Total game score was: 4\n",
      "\n",
      "Welcome to AI Breakout!\n",
      "Starting Game 2 of 100...\n",
      "\n",
      "Training the model...\n",
      "(351, 84, 84, 1)\n",
      "Epoch 1/3\n",
      "351/351 [==============================] - 1s 4ms/step - loss: 2.2139 - mean_absolute_error: 0.5656\n",
      "Epoch 2/3\n",
      "351/351 [==============================] - 2s 4ms/step - loss: 2.1859 - mean_absolute_error: 0.5367\n",
      "Epoch 3/3\n",
      "351/351 [==============================] - 1s 4ms/step - loss: 2.0850 - mean_absolute_error: 0.5050\n",
      "Total game score was: 2\n",
      "Epsilon: 0.4\n",
      "\n",
      "Welcome to AI Breakout!\n",
      "Starting Game 3 of 100...\n",
      "\n",
      "Training the model...\n",
      "(308, 84, 84, 1)\n",
      "Epoch 1/3\n",
      "308/308 [==============================] - 1s 4ms/step - loss: 2.9279 - mean_absolute_error: 0.7516\n",
      "Epoch 2/3\n",
      "308/308 [==============================] - 1s 5ms/step - loss: 2.7989 - mean_absolute_error: 0.7517\n",
      "Epoch 3/3\n",
      "308/308 [==============================] - 1s 5ms/step - loss: 2.7182 - mean_absolute_error: 0.6842\n",
      "Total game score was: 3\n",
      "Epsilon: 0.4\n",
      "\n",
      "Welcome to AI Breakout!\n",
      "Starting Game 4 of 100...\n",
      "\n",
      "Training the model...\n",
      "(477, 84, 84, 1)\n",
      "Epoch 1/3\n",
      "477/477 [==============================] - 2s 4ms/step - loss: 1.8013 - mean_absolute_error: 0.5190\n",
      "Epoch 2/3\n",
      "477/477 [==============================] - 2s 4ms/step - loss: 1.7208 - mean_absolute_error: 0.5008\n",
      "Epoch 3/3\n",
      "477/477 [==============================] - 2s 4ms/step - loss: 1.6738 - mean_absolute_error: 0.5130\n",
      "Total game score was: 3\n",
      "Epsilon: 0.4\n",
      "\n",
      "Welcome to AI Breakout!\n",
      "Starting Game 5 of 100...\n",
      "\n",
      "Training the model...\n",
      "(494, 84, 84, 1)\n",
      "Epoch 1/3\n",
      "494/494 [==============================] - 2s 5ms/step - loss: 1.5800 - mean_absolute_error: 0.4772\n",
      "Epoch 2/3\n",
      "494/494 [==============================] - 2s 5ms/step - loss: 1.4339 - mean_absolute_error: 0.4097\n",
      "Epoch 3/3\n",
      "494/494 [==============================] - 2s 4ms/step - loss: 1.3833 - mean_absolute_error: 0.4329\n",
      "Total game score was: 2\n",
      "Epsilon: 0.4\n",
      "\n",
      "Welcome to AI Breakout!\n",
      "Starting Game 6 of 100...\n",
      "\n",
      "Training the model...\n",
      "(265, 84, 84, 1)\n",
      "Epoch 1/3\n",
      "265/265 [==============================] - 1s 5ms/step - loss: 2.4413 - mean_absolute_error: 0.6654\n",
      "Epoch 2/3\n",
      "265/265 [==============================] - 1s 4ms/step - loss: 2.2743 - mean_absolute_error: 0.6777\n",
      "Epoch 3/3\n",
      "265/265 [==============================] - 1s 5ms/step - loss: 2.2175 - mean_absolute_error: 0.6516\n",
      "Total game score was: 1\n",
      "Epsilon: 0.4\n",
      "\n",
      "Welcome to AI Breakout!\n",
      "Starting Game 7 of 100...\n",
      "\n",
      "Training the model...\n",
      "(322, 84, 84, 1)\n",
      "Epoch 1/3\n",
      "322/322 [==============================] - 2s 5ms/step - loss: 1.5694 - mean_absolute_error: 0.4926\n",
      "Epoch 2/3\n",
      "322/322 [==============================] - 1s 4ms/step - loss: 1.5100 - mean_absolute_error: 0.5160\n",
      "Epoch 3/3\n",
      "322/322 [==============================] - 1s 4ms/step - loss: 1.4996 - mean_absolute_error: 0.5151\n",
      "Total game score was: 0\n",
      "Epsilon: 0.4\n",
      "\n",
      "Welcome to AI Breakout!\n",
      "Starting Game 8 of 100...\n",
      "\n",
      "Training the model...\n",
      "(279, 84, 84, 1)\n",
      "Epoch 1/3\n",
      "279/279 [==============================] - 1s 4ms/step - loss: 2.1625 - mean_absolute_error: 0.6200\n",
      "Epoch 2/3\n",
      "279/279 [==============================] - 1s 4ms/step - loss: 2.0931 - mean_absolute_error: 0.5874\n",
      "Epoch 3/3\n",
      "279/279 [==============================] - 1s 4ms/step - loss: 2.0354 - mean_absolute_error: 0.6231\n",
      "Total game score was: 1\n",
      "Epsilon: 0.4\n",
      "\n",
      "Welcome to AI Breakout!\n",
      "Starting Game 9 of 100...\n",
      "\n",
      "Training the model...\n",
      "(408, 84, 84, 1)\n",
      "Epoch 1/3\n",
      "408/408 [==============================] - 2s 4ms/step - loss: 1.8890 - mean_absolute_error: 0.5113\n",
      "Epoch 2/3\n",
      "408/408 [==============================] - 2s 4ms/step - loss: 1.8352 - mean_absolute_error: 0.4953\n",
      "Epoch 3/3\n",
      "408/408 [==============================] - 2s 5ms/step - loss: 1.8129 - mean_absolute_error: 0.4979\n",
      "Total game score was: 2\n",
      "Epsilon: 0.4\n",
      "\n",
      "Welcome to AI Breakout!\n",
      "Starting Game 10 of 100...\n",
      "\n",
      "Training the model...\n",
      "(466, 84, 84, 1)\n",
      "Epoch 1/3\n",
      "466/466 [==============================] - 2s 4ms/step - loss: 2.1925 - mean_absolute_error: 0.5604\n",
      "Epoch 2/3\n",
      "466/466 [==============================] - 2s 5ms/step - loss: 2.0904 - mean_absolute_error: 0.5313\n",
      "Epoch 3/3\n",
      "466/466 [==============================] - 2s 4ms/step - loss: 1.9958 - mean_absolute_error: 0.5499\n",
      "Total game score was: 4\n",
      "Epsilon: 0.4\n",
      "\n",
      "Welcome to AI Breakout!\n",
      "Starting Game 11 of 100...\n",
      "\n",
      "Training the model...\n",
      "(267, 84, 84, 1)\n",
      "Epoch 1/3\n",
      "267/267 [==============================] - 1s 5ms/step - loss: 2.5524 - mean_absolute_error: 0.7479\n",
      "Epoch 2/3\n",
      "267/267 [==============================] - 1s 5ms/step - loss: 2.4111 - mean_absolute_error: 0.7549\n",
      "Epoch 3/3\n",
      "192/267 [====================>.........] - ETA: 0s - loss: 2.2466 - mean_absolute_error: 0.8027"
     ]
    },
    {
     "ename": "KeyboardInterrupt",
     "evalue": "",
     "output_type": "error",
     "traceback": [
      "\u001b[0;31m---------------------------------------------------------------------------\u001b[0m",
      "\u001b[0;31mKeyboardInterrupt\u001b[0m                         Traceback (most recent call last)",
      "\u001b[0;32m<ipython-input-15-53205cd546e0>\u001b[0m in \u001b[0;36m<module>\u001b[0;34m()\u001b[0m\n\u001b[1;32m     96\u001b[0m                     \u001b[0mhistory\u001b[0m\u001b[0;34m[\u001b[0m\u001b[0;34m\"input\"\u001b[0m\u001b[0;34m]\u001b[0m \u001b[0;34m=\u001b[0m \u001b[0mnp\u001b[0m\u001b[0;34m.\u001b[0m\u001b[0marray\u001b[0m\u001b[0;34m(\u001b[0m\u001b[0mhistory\u001b[0m\u001b[0;34m[\u001b[0m\u001b[0;34m\"input\"\u001b[0m\u001b[0;34m]\u001b[0m\u001b[0;34m)\u001b[0m\u001b[0;34m\u001b[0m\u001b[0m\n\u001b[1;32m     97\u001b[0m                     \u001b[0mprint\u001b[0m\u001b[0;34m(\u001b[0m\u001b[0mhistory\u001b[0m\u001b[0;34m[\u001b[0m\u001b[0;34m\"input\"\u001b[0m\u001b[0;34m]\u001b[0m\u001b[0;34m.\u001b[0m\u001b[0mshape\u001b[0m\u001b[0;34m)\u001b[0m\u001b[0;34m\u001b[0m\u001b[0m\n\u001b[0;32m---> 98\u001b[0;31m                     \u001b[0mmodel\u001b[0m\u001b[0;34m.\u001b[0m\u001b[0mfit\u001b[0m\u001b[0;34m(\u001b[0m\u001b[0mhistory\u001b[0m\u001b[0;34m[\u001b[0m\u001b[0;34m\"input\"\u001b[0m\u001b[0;34m]\u001b[0m\u001b[0;34m,\u001b[0m \u001b[0mhistory\u001b[0m\u001b[0;34m[\u001b[0m\u001b[0;34m\"Q\"\u001b[0m\u001b[0;34m]\u001b[0m\u001b[0;34m,\u001b[0m \u001b[0mshuffle\u001b[0m \u001b[0;34m=\u001b[0m \u001b[0;32mTrue\u001b[0m\u001b[0;34m,\u001b[0m \u001b[0mepochs\u001b[0m \u001b[0;34m=\u001b[0m \u001b[0;36m3\u001b[0m\u001b[0;34m,\u001b[0m \u001b[0mbatch_size\u001b[0m \u001b[0;34m=\u001b[0m \u001b[0;36m32\u001b[0m\u001b[0;34m)\u001b[0m\u001b[0;31m#, callbacks=callbacks_list)\u001b[0m\u001b[0;34m\u001b[0m\u001b[0m\n\u001b[0m\u001b[1;32m     99\u001b[0m                     \u001b[0mprint\u001b[0m\u001b[0;34m(\u001b[0m\u001b[0;34m\"Total game score was: {}\"\u001b[0m\u001b[0;34m.\u001b[0m\u001b[0mformat\u001b[0m\u001b[0;34m(\u001b[0m\u001b[0mint\u001b[0m\u001b[0;34m(\u001b[0m\u001b[0msum\u001b[0m\u001b[0;34m)\u001b[0m\u001b[0;34m)\u001b[0m\u001b[0;34m)\u001b[0m\u001b[0;34m\u001b[0m\u001b[0m\n\u001b[1;32m    100\u001b[0m                     \u001b[0mprint\u001b[0m\u001b[0;34m(\u001b[0m\u001b[0;34m\"Epsilon: {}\\n\"\u001b[0m\u001b[0;34m.\u001b[0m\u001b[0mformat\u001b[0m\u001b[0;34m(\u001b[0m\u001b[0mepsilon\u001b[0m\u001b[0;34m)\u001b[0m\u001b[0;34m)\u001b[0m\u001b[0;34m\u001b[0m\u001b[0m\n",
      "\u001b[0;32m~/homebrew/lib/python3.7/site-packages/keras/engine/training.py\u001b[0m in \u001b[0;36mfit\u001b[0;34m(self, x, y, batch_size, epochs, verbose, callbacks, validation_split, validation_data, shuffle, class_weight, sample_weight, initial_epoch, steps_per_epoch, validation_steps, **kwargs)\u001b[0m\n\u001b[1;32m   1037\u001b[0m                                         \u001b[0minitial_epoch\u001b[0m\u001b[0;34m=\u001b[0m\u001b[0minitial_epoch\u001b[0m\u001b[0;34m,\u001b[0m\u001b[0;34m\u001b[0m\u001b[0m\n\u001b[1;32m   1038\u001b[0m                                         \u001b[0msteps_per_epoch\u001b[0m\u001b[0;34m=\u001b[0m\u001b[0msteps_per_epoch\u001b[0m\u001b[0;34m,\u001b[0m\u001b[0;34m\u001b[0m\u001b[0m\n\u001b[0;32m-> 1039\u001b[0;31m                                         validation_steps=validation_steps)\n\u001b[0m\u001b[1;32m   1040\u001b[0m \u001b[0;34m\u001b[0m\u001b[0m\n\u001b[1;32m   1041\u001b[0m     def evaluate(self, x=None, y=None,\n",
      "\u001b[0;32m~/homebrew/lib/python3.7/site-packages/keras/engine/training_arrays.py\u001b[0m in \u001b[0;36mfit_loop\u001b[0;34m(model, f, ins, out_labels, batch_size, epochs, verbose, callbacks, val_f, val_ins, shuffle, callback_metrics, initial_epoch, steps_per_epoch, validation_steps)\u001b[0m\n\u001b[1;32m    197\u001b[0m                     \u001b[0mins_batch\u001b[0m\u001b[0;34m[\u001b[0m\u001b[0mi\u001b[0m\u001b[0;34m]\u001b[0m \u001b[0;34m=\u001b[0m \u001b[0mins_batch\u001b[0m\u001b[0;34m[\u001b[0m\u001b[0mi\u001b[0m\u001b[0;34m]\u001b[0m\u001b[0;34m.\u001b[0m\u001b[0mtoarray\u001b[0m\u001b[0;34m(\u001b[0m\u001b[0;34m)\u001b[0m\u001b[0;34m\u001b[0m\u001b[0m\n\u001b[1;32m    198\u001b[0m \u001b[0;34m\u001b[0m\u001b[0m\n\u001b[0;32m--> 199\u001b[0;31m                 \u001b[0mouts\u001b[0m \u001b[0;34m=\u001b[0m \u001b[0mf\u001b[0m\u001b[0;34m(\u001b[0m\u001b[0mins_batch\u001b[0m\u001b[0;34m)\u001b[0m\u001b[0;34m\u001b[0m\u001b[0m\n\u001b[0m\u001b[1;32m    200\u001b[0m                 \u001b[0mouts\u001b[0m \u001b[0;34m=\u001b[0m \u001b[0mto_list\u001b[0m\u001b[0;34m(\u001b[0m\u001b[0mouts\u001b[0m\u001b[0;34m)\u001b[0m\u001b[0;34m\u001b[0m\u001b[0m\n\u001b[1;32m    201\u001b[0m                 \u001b[0;32mfor\u001b[0m \u001b[0ml\u001b[0m\u001b[0;34m,\u001b[0m \u001b[0mo\u001b[0m \u001b[0;32min\u001b[0m \u001b[0mzip\u001b[0m\u001b[0;34m(\u001b[0m\u001b[0mout_labels\u001b[0m\u001b[0;34m,\u001b[0m \u001b[0mouts\u001b[0m\u001b[0;34m)\u001b[0m\u001b[0;34m:\u001b[0m\u001b[0;34m\u001b[0m\u001b[0m\n",
      "\u001b[0;32m~/homebrew/lib/python3.7/site-packages/keras/backend/tensorflow_backend.py\u001b[0m in \u001b[0;36m__call__\u001b[0;34m(self, inputs)\u001b[0m\n\u001b[1;32m   2719\u001b[0m                     \u001b[0;34m'In order to feed symbolic tensors to a Keras model '\u001b[0m\u001b[0;34m\u001b[0m\u001b[0m\n\u001b[1;32m   2720\u001b[0m                     'in TensorFlow, you need tensorflow 1.8 or higher.')\n\u001b[0;32m-> 2721\u001b[0;31m             \u001b[0;32mreturn\u001b[0m \u001b[0mself\u001b[0m\u001b[0;34m.\u001b[0m\u001b[0m_legacy_call\u001b[0m\u001b[0;34m(\u001b[0m\u001b[0minputs\u001b[0m\u001b[0;34m)\u001b[0m\u001b[0;34m\u001b[0m\u001b[0m\n\u001b[0m\u001b[1;32m   2722\u001b[0m \u001b[0;34m\u001b[0m\u001b[0m\n\u001b[1;32m   2723\u001b[0m \u001b[0;34m\u001b[0m\u001b[0m\n",
      "\u001b[0;32m~/homebrew/lib/python3.7/site-packages/keras/backend/tensorflow_backend.py\u001b[0m in \u001b[0;36m_legacy_call\u001b[0;34m(self, inputs)\u001b[0m\n\u001b[1;32m   2691\u001b[0m         \u001b[0msession\u001b[0m \u001b[0;34m=\u001b[0m \u001b[0mget_session\u001b[0m\u001b[0;34m(\u001b[0m\u001b[0;34m)\u001b[0m\u001b[0;34m\u001b[0m\u001b[0m\n\u001b[1;32m   2692\u001b[0m         updated = session.run(fetches=fetches, feed_dict=feed_dict,\n\u001b[0;32m-> 2693\u001b[0;31m                               **self.session_kwargs)\n\u001b[0m\u001b[1;32m   2694\u001b[0m         \u001b[0;32mreturn\u001b[0m \u001b[0mupdated\u001b[0m\u001b[0;34m[\u001b[0m\u001b[0;34m:\u001b[0m\u001b[0mlen\u001b[0m\u001b[0;34m(\u001b[0m\u001b[0mself\u001b[0m\u001b[0;34m.\u001b[0m\u001b[0moutputs\u001b[0m\u001b[0;34m)\u001b[0m\u001b[0;34m]\u001b[0m\u001b[0;34m\u001b[0m\u001b[0m\n\u001b[1;32m   2695\u001b[0m \u001b[0;34m\u001b[0m\u001b[0m\n",
      "\u001b[0;32m~/homebrew/lib/python3.7/site-packages/tensorflow/python/client/session.py\u001b[0m in \u001b[0;36mrun\u001b[0;34m(self, fetches, feed_dict, options, run_metadata)\u001b[0m\n\u001b[1;32m    764\u001b[0m     \u001b[0;32mtry\u001b[0m\u001b[0;34m:\u001b[0m\u001b[0;34m\u001b[0m\u001b[0m\n\u001b[1;32m    765\u001b[0m       result = self._run(None, fetches, feed_dict, options_ptr,\n\u001b[0;32m--> 766\u001b[0;31m                          run_metadata_ptr)\n\u001b[0m\u001b[1;32m    767\u001b[0m       \u001b[0;32mif\u001b[0m \u001b[0mrun_metadata\u001b[0m\u001b[0;34m:\u001b[0m\u001b[0;34m\u001b[0m\u001b[0m\n\u001b[1;32m    768\u001b[0m         \u001b[0mproto_data\u001b[0m \u001b[0;34m=\u001b[0m \u001b[0mtf_session\u001b[0m\u001b[0;34m.\u001b[0m\u001b[0mTF_GetBuffer\u001b[0m\u001b[0;34m(\u001b[0m\u001b[0mrun_metadata_ptr\u001b[0m\u001b[0;34m)\u001b[0m\u001b[0;34m\u001b[0m\u001b[0m\n",
      "\u001b[0;32m~/homebrew/lib/python3.7/site-packages/tensorflow/python/client/session.py\u001b[0m in \u001b[0;36m_run\u001b[0;34m(self, handle, fetches, feed_dict, options, run_metadata)\u001b[0m\n\u001b[1;32m    962\u001b[0m     \u001b[0;32mif\u001b[0m \u001b[0mfinal_fetches\u001b[0m \u001b[0;32mor\u001b[0m \u001b[0mfinal_targets\u001b[0m\u001b[0;34m:\u001b[0m\u001b[0;34m\u001b[0m\u001b[0m\n\u001b[1;32m    963\u001b[0m       results = self._do_run(handle, final_targets, final_fetches,\n\u001b[0;32m--> 964\u001b[0;31m                              feed_dict_string, options, run_metadata)\n\u001b[0m\u001b[1;32m    965\u001b[0m     \u001b[0;32melse\u001b[0m\u001b[0;34m:\u001b[0m\u001b[0;34m\u001b[0m\u001b[0m\n\u001b[1;32m    966\u001b[0m       \u001b[0mresults\u001b[0m \u001b[0;34m=\u001b[0m \u001b[0;34m[\u001b[0m\u001b[0;34m]\u001b[0m\u001b[0;34m\u001b[0m\u001b[0m\n",
      "\u001b[0;32m~/homebrew/lib/python3.7/site-packages/tensorflow/python/client/session.py\u001b[0m in \u001b[0;36m_do_run\u001b[0;34m(self, handle, target_list, fetch_list, feed_dict, options, run_metadata)\u001b[0m\n\u001b[1;32m   1012\u001b[0m     \u001b[0;32mif\u001b[0m \u001b[0mhandle\u001b[0m \u001b[0;32mis\u001b[0m \u001b[0;32mNone\u001b[0m\u001b[0;34m:\u001b[0m\u001b[0;34m\u001b[0m\u001b[0m\n\u001b[1;32m   1013\u001b[0m       return self._do_call(_run_fn, self._session, feed_dict, fetch_list,\n\u001b[0;32m-> 1014\u001b[0;31m                            target_list, options, run_metadata)\n\u001b[0m\u001b[1;32m   1015\u001b[0m     \u001b[0;32melse\u001b[0m\u001b[0;34m:\u001b[0m\u001b[0;34m\u001b[0m\u001b[0m\n\u001b[1;32m   1016\u001b[0m       return self._do_call(_prun_fn, self._session, handle, feed_dict,\n",
      "\u001b[0;32m~/homebrew/lib/python3.7/site-packages/tensorflow/python/client/session.py\u001b[0m in \u001b[0;36m_do_call\u001b[0;34m(self, fn, *args)\u001b[0m\n\u001b[1;32m   1019\u001b[0m   \u001b[0;32mdef\u001b[0m \u001b[0m_do_call\u001b[0m\u001b[0;34m(\u001b[0m\u001b[0mself\u001b[0m\u001b[0;34m,\u001b[0m \u001b[0mfn\u001b[0m\u001b[0;34m,\u001b[0m \u001b[0;34m*\u001b[0m\u001b[0margs\u001b[0m\u001b[0;34m)\u001b[0m\u001b[0;34m:\u001b[0m\u001b[0;34m\u001b[0m\u001b[0m\n\u001b[1;32m   1020\u001b[0m     \u001b[0;32mtry\u001b[0m\u001b[0;34m:\u001b[0m\u001b[0;34m\u001b[0m\u001b[0m\n\u001b[0;32m-> 1021\u001b[0;31m       \u001b[0;32mreturn\u001b[0m \u001b[0mfn\u001b[0m\u001b[0;34m(\u001b[0m\u001b[0;34m*\u001b[0m\u001b[0margs\u001b[0m\u001b[0;34m)\u001b[0m\u001b[0;34m\u001b[0m\u001b[0m\n\u001b[0m\u001b[1;32m   1022\u001b[0m     \u001b[0;32mexcept\u001b[0m \u001b[0merrors\u001b[0m\u001b[0;34m.\u001b[0m\u001b[0mOpError\u001b[0m \u001b[0;32mas\u001b[0m \u001b[0me\u001b[0m\u001b[0;34m:\u001b[0m\u001b[0;34m\u001b[0m\u001b[0m\n\u001b[1;32m   1023\u001b[0m       \u001b[0mmessage\u001b[0m \u001b[0;34m=\u001b[0m \u001b[0mcompat\u001b[0m\u001b[0;34m.\u001b[0m\u001b[0mas_text\u001b[0m\u001b[0;34m(\u001b[0m\u001b[0me\u001b[0m\u001b[0;34m.\u001b[0m\u001b[0mmessage\u001b[0m\u001b[0;34m)\u001b[0m\u001b[0;34m\u001b[0m\u001b[0m\n",
      "\u001b[0;32m~/homebrew/lib/python3.7/site-packages/tensorflow/python/client/session.py\u001b[0m in \u001b[0;36m_run_fn\u001b[0;34m(session, feed_dict, fetch_list, target_list, options, run_metadata)\u001b[0m\n\u001b[1;32m   1001\u001b[0m         return tf_session.TF_Run(session, options,\n\u001b[1;32m   1002\u001b[0m                                  \u001b[0mfeed_dict\u001b[0m\u001b[0;34m,\u001b[0m \u001b[0mfetch_list\u001b[0m\u001b[0;34m,\u001b[0m \u001b[0mtarget_list\u001b[0m\u001b[0;34m,\u001b[0m\u001b[0;34m\u001b[0m\u001b[0m\n\u001b[0;32m-> 1003\u001b[0;31m                                  status, run_metadata)\n\u001b[0m\u001b[1;32m   1004\u001b[0m \u001b[0;34m\u001b[0m\u001b[0m\n\u001b[1;32m   1005\u001b[0m     \u001b[0;32mdef\u001b[0m \u001b[0m_prun_fn\u001b[0m\u001b[0;34m(\u001b[0m\u001b[0msession\u001b[0m\u001b[0;34m,\u001b[0m \u001b[0mhandle\u001b[0m\u001b[0;34m,\u001b[0m \u001b[0mfeed_dict\u001b[0m\u001b[0;34m,\u001b[0m \u001b[0mfetch_list\u001b[0m\u001b[0;34m)\u001b[0m\u001b[0;34m:\u001b[0m\u001b[0;34m\u001b[0m\u001b[0m\n",
      "\u001b[0;31mKeyboardInterrupt\u001b[0m: "
     ]
    }
   ],
   "source": [
    "env = gym.make(\"Breakout-v0\")\n",
    "observation = env.reset()\n",
    "observation, lives = process_obs(observation)\n",
    "\n",
    "episodes = 1000\n",
    "episode_scores = []\n",
    "epsilon = 0.4\n",
    "gamma = 0.9\n",
    "done = False\n",
    "\n",
    "history = {}\n",
    "\n",
    "\n",
    "for i in range(1, episodes+1):\n",
    "    print(\"Welcome to AI Breakout!\")\n",
    "    print(\"Starting Game {} of {}...\\n\".format(i, episodes))\n",
    "    \n",
    "    history = {\"input\":[], \"reward\":[], \"action\": [], \"Q\":[]}\n",
    "    sum = 0\n",
    "    frame = 0\n",
    "    game = True\n",
    "    LIVES = []\n",
    "    while game: \n",
    "        \n",
    "        if (frame == 0) or (frame % 4 == 0):\n",
    "            rand = np.random.uniform(0,1)\n",
    "            if  rand < epsilon:\n",
    "                action = env.action_space.sample()\n",
    "            else:\n",
    "                observation = np.expand_dims(observation,0)\n",
    "                action = np.argmax(model.predict(observation))\n",
    "                \n",
    "        else:\n",
    "            pass\n",
    "        \n",
    "        \n",
    "        observation, reward, done, info = env.step(action)\n",
    "        observation, lives = process_obs(observation)\n",
    "        \n",
    "        if len(LIVES) == 0:\n",
    "            LIVES.append(lives)\n",
    "            loss = 0\n",
    "        else:\n",
    "            if np.array_equal(LIVES[-1], lives):\n",
    "                loss = 0\n",
    "            \n",
    "            else:\n",
    "                LIVES.append(lives)\n",
    "                loss = -10\n",
    "                #plot_state(history[\"input\"][-10].reshape((84,84)))\n",
    "       \n",
    "        history[\"input\"].append(observation)\n",
    "        history[\"action\"].append(action)\n",
    "        history[\"reward\"].append(10*reward + loss)\n",
    "        \n",
    "        #time.sleep(0.001)\n",
    "        #env.render()\n",
    "        sum += reward\n",
    "        frame += 1\n",
    "        if done:\n",
    "             \n",
    "            Q = []\n",
    "            frame = 0\n",
    "            #print(history[\"reward\"][::-1])\n",
    "            #print(\"\")\n",
    "            #print(history[\"action\"][::-1])\n",
    "            for j,k in enumerate(history[\"reward\"][::-1]):\n",
    "                \n",
    "                if j == 0:\n",
    "                    val = np.array([[0, 0, 0, 0]], dtype=\"float32\")\n",
    "                    val[0,history[\"action\"][-1]] = k\n",
    "                    Q.append(val)\n",
    "                else:\n",
    "                    val = np.array([[0, 0, 0, 0]], dtype=\"float32\")\n",
    "                    val[0,history[\"action\"][-1-j]] = k + gamma*np.sum(Q[-1][0]) #gamma*Q[-1][0][history[\"action\"][-j]]\n",
    "                    Q.append(val)\n",
    "            \n",
    "            Q = np.array(Q[::-1])\n",
    "            Q = Q.reshape(Q.shape[0],Q.shape[2])\n",
    "            history[\"Q\"] = Q \n",
    "            \n",
    "            if len(episode_scores) == 0:\n",
    "                \n",
    "                print(\"Training the model...\")\n",
    "                history[\"input\"] = np.array(history[\"input\"])\n",
    "                model.fit(history[\"input\"], history[\"Q\"], epochs = 3, batch_size=32)#, callbacks=callbacks_list)\n",
    "                print(\"Total game score was: {}\\n\".format(int(sum)))\n",
    "                \n",
    "                observation = env.reset()\n",
    "                observation, lives = process_obs(observation)\n",
    "                episode_scores.append(int(sum))\n",
    "                game = False\n",
    "            else:\n",
    "                if sum >= 0:#episode_scores[-1]:\n",
    "                    print(\"Training the model...\")\n",
    "                    history[\"input\"] = np.array(history[\"input\"])\n",
    "                    print(history[\"input\"].shape)\n",
    "                    model.fit(history[\"input\"], history[\"Q\"], shuffle = True, epochs = 3, batch_size = 32)#, callbacks=callbacks_list)\n",
    "                    print(\"Total game score was: {}\".format(int(sum)))\n",
    "                    print(\"Epsilon: {}\\n\".format(epsilon))\n",
    "            \n",
    "                    observation = env.reset()\n",
    "                    observation, lives = process_obs(observation)\n",
    "                    episode_scores.append(int(sum))\n",
    "                    \n",
    "                    if i % 10000 == 0:\n",
    "                        epsilon *= 0.9\n",
    "                    game = False\n",
    "                else:\n",
    "                    observation = env.reset()\n",
    "                    observation, lives = process_obs(observation)\n",
    "                    print(\"Total game score was: {}\\n\".format(int(sum)))\n",
    "                    print(\"Epsilon: {}\".format(epsilon))\n",
    "                    game = False \n",
    "                             \n",
    "        else:\n",
    "            pass\n",
    "            \n",
    "         "
   ]
  },
  {
   "cell_type": "code",
   "execution_count": 16,
   "metadata": {},
   "outputs": [
    {
     "data": {
      "text/plain": [
       "array([0.        , 0.        , 0.12795268, 0.        ], dtype=float32)"
      ]
     },
     "execution_count": 16,
     "metadata": {},
     "output_type": "execute_result"
    }
   ],
   "source": [
    "history[\"Q\"][150]"
   ]
  },
  {
   "cell_type": "code",
   "execution_count": 17,
   "metadata": {},
   "outputs": [
    {
     "data": {
      "text/plain": [
       "array([[-0.17206387, -0.5381881 , -0.01087473, -0.23716646]],\n",
       "      dtype=float32)"
      ]
     },
     "execution_count": 17,
     "metadata": {},
     "output_type": "execute_result"
    }
   ],
   "source": [
    "model.predict(np.expand_dims(history[\"input\"][150],0))"
   ]
  },
  {
   "cell_type": "code",
   "execution_count": 18,
   "metadata": {},
   "outputs": [
    {
     "data": {
      "image/png": "[encoded data removed]",
      "text/plain": [
       "<Figure size 864x576 with 1 Axes>"
      ]
     },
     "metadata": {},
     "output_type": "display_data"
    }
   ],
   "source": [
    "plot_state(history[\"input\"][150].reshape(84,84))"
   ]
  },
  {
   "cell_type": "code",
   "execution_count": 19,
   "metadata": {},
   "outputs": [
    {
     "data": {
      "image/png": "[encoded data removed]",
      "text/plain": [
       "<Figure size 1224x792 with 1 Axes>"
      ]
     },
     "metadata": {},
     "output_type": "display_data"
    }
   ],
   "source": [
    "plt.figure(figsize=(17,11))\n",
    "plt.plot(episode_scores)\n",
    "plt.show()"
   ]
  },
  {
   "cell_type": "markdown",
   "metadata": {},
   "source": [
    "# Saving Model"
   ]
  },
  {
   "cell_type": "code",
   "execution_count": 20,
   "metadata": {},
   "outputs": [],
   "source": [
    "model.save(\"breakout-atari-rl.h5\")"
   ]
  },
  {
   "cell_type": "markdown",
   "metadata": {},
   "source": [
    "# Testing the Model"
   ]
  },
  {
   "cell_type": "code",
   "execution_count": 21,
   "metadata": {},
   "outputs": [],
   "source": [
    "mod = load_model(\"breakout-atari-rl.h5\")"
   ]
  },
  {
   "cell_type": "code",
   "execution_count": 22,
   "metadata": {},
   "outputs": [
    {
     "name": "stderr",
     "output_type": "stream",
     "text": [
      "/Users/samwilliams/homebrew/lib/python3.7/site-packages/ipykernel_launcher.py:4: DeprecationWarning: `imresize` is deprecated!\n",
      "`imresize` is deprecated in SciPy 1.0.0, and will be removed in 1.2.0.\n",
      "Use ``skimage.transform.resize`` instead.\n",
      "  after removing the cwd from sys.path.\n"
     ]
    },
    {
     "data": {
      "image/png": "[encoded data removed]",
      "text/plain": [
       "<Figure size 864x576 with 1 Axes>"
      ]
     },
     "metadata": {},
     "output_type": "display_data"
    },
    {
     "name": "stdout",
     "output_type": "stream",
     "text": [
      "Welcome to AI Breakout!\n",
      "Starting Game 1 of 20...\n",
      "Total game score was: 5\n",
      "\n",
      "Welcome to AI Breakout!\n",
      "Starting Game 2 of 20...\n",
      "Total game score was: 4\n",
      "\n",
      "Welcome to AI Breakout!\n",
      "Starting Game 3 of 20...\n",
      "Total game score was: 2\n",
      "\n",
      "Welcome to AI Breakout!\n",
      "Starting Game 4 of 20...\n",
      "Total game score was: 3\n",
      "\n",
      "Welcome to AI Breakout!\n",
      "Starting Game 5 of 20...\n",
      "Total game score was: 4\n",
      "\n",
      "Welcome to AI Breakout!\n",
      "Starting Game 6 of 20...\n",
      "Total game score was: 4\n",
      "\n",
      "Welcome to AI Breakout!\n",
      "Starting Game 7 of 20...\n",
      "Total game score was: 4\n",
      "\n",
      "Welcome to AI Breakout!\n",
      "Starting Game 8 of 20...\n",
      "Total game score was: 3\n",
      "\n",
      "Welcome to AI Breakout!\n",
      "Starting Game 9 of 20...\n"
     ]
    },
    {
     "ename": "KeyboardInterrupt",
     "evalue": "",
     "output_type": "error",
     "traceback": [
      "\u001b[0;31m---------------------------------------------------------------------------\u001b[0m",
      "\u001b[0;31mKeyboardInterrupt\u001b[0m                         Traceback (most recent call last)",
      "\u001b[0;32m<ipython-input-22-fd96aa096706>\u001b[0m in \u001b[0;36m<module>\u001b[0;34m()\u001b[0m\n\u001b[1;32m     37\u001b[0m \u001b[0;34m\u001b[0m\u001b[0m\n\u001b[1;32m     38\u001b[0m         \u001b[0msum\u001b[0m \u001b[0;34m+=\u001b[0m \u001b[0mreward\u001b[0m\u001b[0;34m\u001b[0m\u001b[0m\n\u001b[0;32m---> 39\u001b[0;31m         \u001b[0mtime\u001b[0m\u001b[0;34m.\u001b[0m\u001b[0msleep\u001b[0m\u001b[0;34m(\u001b[0m\u001b[0;36m0.02\u001b[0m\u001b[0;34m)\u001b[0m\u001b[0;34m\u001b[0m\u001b[0m\n\u001b[0m\u001b[1;32m     40\u001b[0m         \u001b[0menv\u001b[0m\u001b[0;34m.\u001b[0m\u001b[0mrender\u001b[0m\u001b[0;34m(\u001b[0m\u001b[0;34m)\u001b[0m\u001b[0;34m\u001b[0m\u001b[0m\n\u001b[1;32m     41\u001b[0m \u001b[0;34m\u001b[0m\u001b[0m\n",
      "\u001b[0;31mKeyboardInterrupt\u001b[0m: "
     ]
    }
   ],
   "source": [
    "env = gym.make(\"Breakout-v0\")\n",
    "observation = env.reset()\n",
    "observation, lives = process_obs(observation)\n",
    "\n",
    "plot_state(observation.reshape((84,84)))\n",
    "\n",
    "episodes = 20\n",
    "done = False\n",
    "epsilon = 0\n",
    "\n",
    "\n",
    "for i in range(1, episodes):\n",
    "    print(\"Welcome to AI Breakout!\")\n",
    "    print(\"Starting Game {} of {}...\".format(i, episodes))\n",
    "    \n",
    "    sum = 0\n",
    "    game = True\n",
    "    obs = []\n",
    "    while game:\n",
    "        \n",
    "        if (len(obs) == 0):\n",
    "            action = 1\n",
    "        elif (len(obs) > 1) and (np.array_equal(obs[-1],obs[-2])):\n",
    "            action = 1\n",
    "        else:\n",
    "            rand = np.random.uniform(0,1)\n",
    "            if  rand < epsilon:\n",
    "                action = env.action_space.sample()\n",
    "            else:\n",
    "                observation = np.expand_dims(observation,0)\n",
    "                action = np.argmax(mod.predict(observation))\n",
    "            \n",
    "        #print(action)\n",
    "        observation, reward, done, info = env.step(action)\n",
    "        observation, lives = process_obs(observation)\n",
    "        obs.append(observation)\n",
    "\n",
    "        sum += reward\n",
    "        time.sleep(0.02)\n",
    "        env.render()\n",
    "\n",
    "        if done:\n",
    "            print(\"Total game score was: {}\\n\".format(int(sum)))\n",
    "            observation = env.reset()\n",
    "            observation, lives = process_obs(observation)\n",
    "            game = False\n",
    "env.close()        "
   ]
  },
  {
   "cell_type": "code",
   "execution_count": null,
   "metadata": {},
   "outputs": [],
   "source": []
  }
 ],
 "metadata": {
  "kernelspec": {
   "display_name": "Python 3",
   "language": "python",
   "name": "python3"
  },
  "language_info": {
   "codemirror_mode": {
    "name": "ipython",
    "version": 3
   },
   "file_extension": ".py",
   "mimetype": "text/x-python",
   "name": "python",
   "nbconvert_exporter": "python",
   "pygments_lexer": "ipython3",
   "version": "3.7.0"
  }
 },
 "nbformat": 4,
 "nbformat_minor": 2
}
